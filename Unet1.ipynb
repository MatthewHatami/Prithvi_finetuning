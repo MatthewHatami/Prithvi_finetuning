{
 "cells": [
  {
   "cell_type": "code",
   "execution_count": null,
   "metadata": {},
   "outputs": [],
   "source": [
    "pip install torch torchvision albumentations opencv-python matplotlib\n"
   ]
  },
  {
   "cell_type": "code",
   "execution_count": null,
   "metadata": {},
   "outputs": [],
   "source": [
    "pip install rasterio"
   ]
  },
  {
   "cell_type": "code",
   "execution_count": null,
   "metadata": {},
   "outputs": [],
   "source": [
    "import os\n",
    "import numpy as np\n",
    "from PIL import Image\n",
    "import torch\n",
    "from torch.utils.data import Dataset, DataLoader\n",
    "import torch.nn as nn\n",
    "import torch.optim as optim\n",
    "from torchvision.transforms import functional as F\n",
    "import matplotlib.pyplot as plt\n"
   ]
  },
  {
   "cell_type": "code",
   "execution_count": null,
   "metadata": {},
   "outputs": [],
   "source": []
  },
  {
   "cell_type": "code",
   "execution_count": 25,
   "metadata": {},
   "outputs": [],
   "source": [
    "import rasterio\n",
    "import numpy as np\n",
    "import torch\n",
    "from torch.utils.data import Dataset\n",
    "\n",
    "class FloodDataset(Dataset):\n",
    "    def __init__(self, img_dir, ann_dir, img_size=224):\n",
    "        self.img_dir = img_dir\n",
    "        self.ann_dir = ann_dir\n",
    "        self.img_size = img_size\n",
    "        self.image_files = sorted(os.listdir(img_dir))\n",
    "        self.mask_files = sorted(os.listdir(ann_dir))\n",
    "\n",
    "    def __len__(self):\n",
    "        return len(self.image_files)\n",
    "\n",
    "    def __getitem__(self, idx):\n",
    "        # Load image and mask\n",
    "        img_path = os.path.join(self.img_dir, self.image_files[idx])\n",
    "        mask_path = os.path.join(self.ann_dir, self.mask_files[idx])\n",
    "\n",
    "        # Use rasterio to read .tif files\n",
    "        with rasterio.open(img_path) as img_src:\n",
    "            img = img_src.read([1, 2])  # Read specific bands (e.g., band 1 and band 2)\n",
    "        \n",
    "        with rasterio.open(mask_path) as mask_src:\n",
    "            mask = mask_src.read(1)  # Read the first band for the mask\n",
    "        \n",
    "        # Normalize the image\n",
    "        img = (img - np.min(img)) / (np.max(img) - np.min(img))\n",
    "        \n",
    "        # Resize the image and mask\n",
    "        img = np.transpose(img, (1, 2, 0))  # Change to HWC format\n",
    "        img = np.resize(img, (self.img_size, self.img_size, img.shape[-1]))\n",
    "        mask = np.resize(mask, (self.img_size, self.img_size))\n",
    "\n",
    "        # Convert to tensors\n",
    "        img_tensor = torch.tensor(img, dtype=torch.float32).permute(2, 0, 1)  # CHW format\n",
    "        #mask_tensor = torch.tensor(mask, dtype=torch.long)\n",
    "        mask_tensor = torch.tensor(mask, dtype=torch.float32).unsqueeze(0)  # Add channel dimension and convert to Float\n",
    "\n",
    "        return img_tensor, mask_tensor\n"
   ]
  },
  {
   "cell_type": "code",
   "execution_count": 26,
   "metadata": {},
   "outputs": [
    {
     "name": "stdout",
     "output_type": "stream",
     "text": [
      "Train image directory exists: True\n",
      "Train annotation directory exists: True\n",
      "Validation image directory exists: True\n",
      "Validation annotation directory exists: True\n"
     ]
    }
   ],
   "source": [
    "import os\n",
    "\n",
    "root_dir = \"dataset2\"  # Path to your dataset\n",
    "img_size = 224\n",
    "\n",
    "# Paths\n",
    "train_img_dir = os.path.join(root_dir, \"images\", \"train\")\n",
    "train_ann_dir = os.path.join(root_dir, \"annotations\", \"train\")\n",
    "val_img_dir = os.path.join(root_dir, \"images\", \"val\")\n",
    "val_ann_dir = os.path.join(root_dir, \"annotations\", \"val\")\n",
    "test_img_dir = os.path.join(root_dir, \"images\", \"test\")\n",
    "test_ann_dir = os.path.join(root_dir, \"annotations\", \"test\")\n",
    "\n",
    "print(f\"Train image directory exists: {os.path.exists(train_img_dir)}\")\n",
    "print(f\"Train annotation directory exists: {os.path.exists(train_ann_dir)}\")\n",
    "print(f\"Validation image directory exists: {os.path.exists(val_img_dir)}\")\n",
    "print(f\"Validation annotation directory exists: {os.path.exists(val_ann_dir)}\")\n"
   ]
  },
  {
   "cell_type": "code",
   "execution_count": 27,
   "metadata": {},
   "outputs": [],
   "source": [
    "# Initialize datasets\n",
    "train_dataset = FloodDataset(img_dir=train_img_dir, ann_dir=train_ann_dir, img_size=img_size)\n",
    "val_dataset = FloodDataset(img_dir=val_img_dir, ann_dir=val_ann_dir, img_size=img_size)\n",
    "test_dataset = FloodDataset(img_dir=test_img_dir, ann_dir=test_ann_dir, img_size=img_size)\n"
   ]
  },
  {
   "cell_type": "code",
   "execution_count": 28,
   "metadata": {},
   "outputs": [],
   "source": [
    "from torch.utils.data import DataLoader\n",
    "\n",
    "batch_size = 4\n",
    "# Create DataLoaders\n",
    "train_loader = DataLoader(train_dataset, batch_size=batch_size, shuffle=True)\n",
    "val_loader = DataLoader(val_dataset, batch_size=batch_size, shuffle=False)\n",
    "test_loader = DataLoader(test_dataset, batch_size=1, shuffle=False)\n"
   ]
  },
  {
   "cell_type": "code",
   "execution_count": 29,
   "metadata": {},
   "outputs": [
    {
     "name": "stdout",
     "output_type": "stream",
     "text": [
      "Train batch - Images shape: torch.Size([4, 2, 224, 224]), Masks shape: torch.Size([4, 1, 224, 224])\n",
      "Validation batch - Images shape: torch.Size([4, 2, 224, 224]), Masks shape: torch.Size([4, 1, 224, 224])\n"
     ]
    }
   ],
   "source": [
    "# Test train_loader\n",
    "for images, masks in train_loader:\n",
    "    print(f\"Train batch - Images shape: {images.shape}, Masks shape: {masks.shape}\")\n",
    "    break\n",
    "\n",
    "# Test val_loader\n",
    "for images, masks in val_loader:\n",
    "    print(f\"Validation batch - Images shape: {images.shape}, Masks shape: {masks.shape}\")\n",
    "    break\n"
   ]
  },
  {
   "cell_type": "code",
   "execution_count": 30,
   "metadata": {},
   "outputs": [
    {
     "name": "stdout",
     "output_type": "stream",
     "text": [
      "Images shape: torch.Size([4, 2, 224, 224])\n",
      "Masks shape: torch.Size([4, 1, 224, 224])\n"
     ]
    }
   ],
   "source": [
    "from torch.utils.data import DataLoader\n",
    "\n",
    "train_loader = DataLoader(train_dataset, batch_size=4, shuffle=True)\n",
    "\n",
    "# Load a batch and print its shape\n",
    "for batch in train_loader:\n",
    "    images, masks = batch\n",
    "    print(f\"Images shape: {images.shape}\")\n",
    "    print(f\"Masks shape: {masks.shape}\")\n",
    "    break\n"
   ]
  },
  {
   "cell_type": "code",
   "execution_count": 31,
   "metadata": {},
   "outputs": [
    {
     "name": "stdout",
     "output_type": "stream",
     "text": [
      "Number of train images: 156\n",
      "Number of train annotations: 156\n",
      "Sample train image files: ['/home/mehdih/codes/prithvi/prithvi_finetuning/dataset2/images/train/Mississippi_4352_2816.tif', '/home/mehdih/codes/prithvi/prithvi_finetuning/dataset2/images/train/Mississippi_14336_2304.tif', '/home/mehdih/codes/prithvi/prithvi_finetuning/dataset2/images/train/Valencia_512_0.tif', '/home/mehdih/codes/prithvi/prithvi_finetuning/dataset2/images/train/Mississippi_13568_2304.tif', '/home/mehdih/codes/prithvi/prithvi_finetuning/dataset2/images/train/Valencia_2048_2304.tif']\n",
      "Sample train annotation files: ['/home/mehdih/codes/prithvi/prithvi_finetuning/dataset2/annotations/train/Mississippi_4352_2816.tif', '/home/mehdih/codes/prithvi/prithvi_finetuning/dataset2/annotations/train/Mississippi_14336_2304.tif', '/home/mehdih/codes/prithvi/prithvi_finetuning/dataset2/annotations/train/Valencia_512_0.tif', '/home/mehdih/codes/prithvi/prithvi_finetuning/dataset2/annotations/train/Mississippi_13568_2304.tif', '/home/mehdih/codes/prithvi/prithvi_finetuning/dataset2/annotations/train/Valencia_2048_2304.tif']\n"
     ]
    }
   ],
   "source": [
    "import os\n",
    "from glob import glob\n",
    "\n",
    "# Check the train directory\n",
    "train_images = glob(os.path.join(\"/home/mehdih/codes/prithvi/prithvi_finetuning/dataset2/images/train\", \"*.tif\"))\n",
    "train_annotations = glob(os.path.join(\"/home/mehdih/codes/prithvi/prithvi_finetuning/dataset2/annotations/train\", \"*.tif\"))\n",
    "\n",
    "print(f\"Number of train images: {len(train_images)}\")\n",
    "print(f\"Number of train annotations: {len(train_annotations)}\")\n",
    "\n",
    "# Print a few file paths\n",
    "print(\"Sample train image files:\", train_images[:5])\n",
    "print(\"Sample train annotation files:\", train_annotations[:5])\n"
   ]
  },
  {
   "cell_type": "code",
   "execution_count": 32,
   "metadata": {},
   "outputs": [
    {
     "name": "stdout",
     "output_type": "stream",
     "text": [
      "Images shape: torch.Size([4, 2, 224, 224])\n",
      "Masks shape: torch.Size([4, 1, 224, 224])\n"
     ]
    }
   ],
   "source": [
    "from torch.utils.data import DataLoader\n",
    "\n",
    "# Initialize dataset and loader\n",
    "dataset = FloodDataset(\n",
    "    img_dir=\"/home/mehdih/codes/prithvi/prithvi_finetuning/dataset2/images/train\",\n",
    "    ann_dir=\"/home/mehdih/codes/prithvi/prithvi_finetuning/dataset2/annotations/train\",\n",
    "    img_size=224\n",
    ")\n",
    "loader = DataLoader(dataset, batch_size=4, shuffle=True)\n",
    "\n",
    "# Load a batch and print its shape\n",
    "for batch in loader:\n",
    "    images, masks = batch\n",
    "    print(f\"Images shape: {images.shape}\")\n",
    "    print(f\"Masks shape: {masks.shape}\")\n",
    "    break\n"
   ]
  },
  {
   "cell_type": "code",
   "execution_count": 33,
   "metadata": {},
   "outputs": [],
   "source": [
    "class UNet(nn.Module):\n",
    "    def __init__(self):\n",
    "        super(UNet, self).__init__()\n",
    "        self.encoder = nn.Sequential(\n",
    "            nn.Conv2d(2, 64, kernel_size=3, padding=1),  # 2 input channels\n",
    "            nn.ReLU(inplace=True),\n",
    "            nn.Conv2d(64, 64, kernel_size=3, padding=1),\n",
    "            nn.ReLU(inplace=True),\n",
    "            nn.MaxPool2d(2)\n",
    "        )\n",
    "        self.decoder = nn.Sequential(\n",
    "            nn.Conv2d(64, 64, kernel_size=3, padding=1),\n",
    "            nn.ReLU(inplace=True),\n",
    "            nn.Conv2d(64, 1, kernel_size=1),  # Output to 1 channel (binary segmentation)\n",
    "            nn.Sigmoid()\n",
    "        )\n",
    "\n",
    "    def forward(self, x):\n",
    "        x = self.encoder(x)\n",
    "        x = nn.functional.interpolate(x, scale_factor=2, mode='bilinear', align_corners=True)\n",
    "        x = self.decoder(x)\n",
    "        return x\n"
   ]
  },
  {
   "cell_type": "code",
   "execution_count": 34,
   "metadata": {},
   "outputs": [
    {
     "name": "stdout",
     "output_type": "stream",
     "text": [
      "Image shape: torch.Size([4, 2, 224, 224])\n",
      "Mask shape: torch.Size([4, 1, 224, 224])\n"
     ]
    }
   ],
   "source": [
    "# Check a batch of data\n",
    "for images, masks in train_loader:\n",
    "    print(f\"Image shape: {images.shape}\")  # Expected: [batch_size, 2, height, width]\n",
    "    print(f\"Mask shape: {masks.shape}\")   # Expected: [batch_size, height, width]\n",
    "    break\n"
   ]
  },
  {
   "cell_type": "code",
   "execution_count": null,
   "metadata": {},
   "outputs": [],
   "source": [
    "#not this\n",
    "def train_model(model, train_loader, val_loader, device, epochs=30):\n",
    "    model.to(device)\n",
    "    criterion = nn.BCELoss()  # Binary Cross Entropy Loss\n",
    "    optimizer = optim.Adam(model.parameters(), lr=0.001)\n",
    "\n",
    "    train_losses, val_losses = [], []\n",
    "\n",
    "    for epoch in range(epochs):\n",
    "        model.train()\n",
    "        train_loss = 0\n",
    "        for images, masks in train_loader:\n",
    "            images, masks = images.to(device), masks.to(device)\n",
    "\n",
    "            optimizer.zero_grad()\n",
    "            outputs = model(images)\n",
    "            outputs = outputs\n",
    "            loss = criterion(outputs, masks)\n",
    "            loss.backward()\n",
    "            optimizer.step()\n",
    "\n",
    "            train_loss += loss.item()\n",
    "\n",
    "        train_losses.append(train_loss / len(train_loader))\n",
    "\n",
    "        # Validation\n",
    "        model.eval()\n",
    "        val_loss = 0\n",
    "        with torch.no_grad():\n",
    "            for images, masks in val_loader:\n",
    "                images, masks = images.to(device), masks.to(device)\n",
    "                outputs = model(images)\n",
    "                outputs = outputs\n",
    "                loss = criterion(outputs, masks)\n",
    "                val_loss += loss.item()\n",
    "\n",
    "        val_losses.append(val_loss / len(val_loader))\n",
    "        print(f\"Epoch {epoch + 1}/{epochs}, Train Loss: {train_losses[-1]:.4f}, Val Loss: {val_losses[-1]:.4f}\")\n",
    "\n",
    "    return train_losses, val_losses\n"
   ]
  },
  {
   "cell_type": "code",
   "execution_count": 35,
   "metadata": {},
   "outputs": [],
   "source": [
    "from torch.optim.lr_scheduler import CosineAnnealingLR\n",
    "\n",
    "scheduler = CosineAnnealingLR(optimizer, T_max=epochs)\n"
   ]
  },
  {
   "cell_type": "code",
   "execution_count": 46,
   "metadata": {},
   "outputs": [],
   "source": [
    "from torch.optim.lr_scheduler import CosineAnnealingLR\n",
    "\n",
    "# Initialize the optimizer and scheduler outside the function\n",
    "optimizer = optim.Adam(model.parameters(), lr=0.001)\n",
    "scheduler = CosineAnnealingLR(optimizer, T_max=epochs)\n",
    "\n",
    "def train_model(model, train_loader, val_loader, device, epochs=30):\n",
    "    model.to(device)\n",
    "    criterion = nn.BCELoss()  # Binary Cross Entropy Loss\n",
    "\n",
    "    train_losses, val_losses = [], []\n",
    "\n",
    "    for epoch in range(epochs):\n",
    "        model.train()\n",
    "        train_loss = 0  # Initialize train_loss at the start of the epoch\n",
    "        for images, masks in train_loader:\n",
    "            images, masks = images.to(device), masks.to(device)\n",
    "\n",
    "            optimizer.zero_grad()\n",
    "            outputs = model(images)\n",
    "            loss = criterion(outputs, masks)\n",
    "            loss.backward()\n",
    "            optimizer.step()\n",
    "\n",
    "            train_loss += loss.item()  # Accumulate loss within the epoch\n",
    "\n",
    "        scheduler.step()  # Update learning rate after each epoch\n",
    "\n",
    "        train_losses.append(train_loss / len(train_loader))  # Append average loss for the epoch\n",
    "\n",
    "        # Validation\n",
    "        model.eval()\n",
    "        val_loss = 0\n",
    "        with torch.no_grad():\n",
    "            for images, masks in val_loader:\n",
    "                images, masks = images.to(device), masks.to(device)\n",
    "                outputs = model(images)\n",
    "                loss = criterion(outputs, masks)\n",
    "                val_loss += loss.item()\n",
    "\n",
    "        val_losses.append(val_loss / len(val_loader))  # Append average validation loss\n",
    "        print(f\"Epoch {epoch + 1}/{epochs}, Train Loss: {train_losses[-1]:.4f}, Val Loss: {val_losses[-1]:.4f}\")\n",
    "\n",
    "    return train_losses, val_losses\n"
   ]
  },
  {
   "cell_type": "code",
   "execution_count": 47,
   "metadata": {},
   "outputs": [],
   "source": [
    "def plot_losses(train_losses, val_losses):\n",
    "    plt.figure(figsize=(10, 6))\n",
    "    plt.plot(train_losses, label='Training Loss')\n",
    "    plt.plot(val_losses, label='Validation Loss')\n",
    "    plt.xlabel('Epochs')\n",
    "    plt.ylabel('Loss')\n",
    "    plt.title('Training and Validation Loss')\n",
    "    plt.legend()\n",
    "    plt.show()\n"
   ]
  },
  {
   "cell_type": "code",
   "execution_count": 48,
   "metadata": {},
   "outputs": [],
   "source": [
    "model = UNet()\n"
   ]
  },
  {
   "cell_type": "code",
   "execution_count": 49,
   "metadata": {},
   "outputs": [
    {
     "data": {
      "text/plain": [
       "UNet(\n",
       "  (encoder): Sequential(\n",
       "    (0): Conv2d(2, 64, kernel_size=(3, 3), stride=(1, 1), padding=(1, 1))\n",
       "    (1): ReLU(inplace=True)\n",
       "    (2): Conv2d(64, 64, kernel_size=(3, 3), stride=(1, 1), padding=(1, 1))\n",
       "    (3): ReLU(inplace=True)\n",
       "    (4): MaxPool2d(kernel_size=2, stride=2, padding=0, dilation=1, ceil_mode=False)\n",
       "  )\n",
       "  (decoder): Sequential(\n",
       "    (0): Conv2d(64, 64, kernel_size=(3, 3), stride=(1, 1), padding=(1, 1))\n",
       "    (1): ReLU(inplace=True)\n",
       "    (2): Conv2d(64, 1, kernel_size=(1, 1), stride=(1, 1))\n",
       "    (3): Sigmoid()\n",
       "  )\n",
       ")"
      ]
     },
     "execution_count": 49,
     "metadata": {},
     "output_type": "execute_result"
    }
   ],
   "source": [
    "# Define device\n",
    "device = torch.device(\"cuda\" if torch.cuda.is_available() else \"cpu\")\n",
    "\n",
    "# Binary Cross Entropy Loss\n",
    "criterion = nn.BCELoss()\n",
    "\n",
    "# Optimizer\n",
    "#optimizer = optim.Adam(model.parameters(), lr=0.001)\n",
    "optimizer = optim.AdamW(model.parameters(), lr=5e-4, weight_decay=0.0001)\n",
    "\n",
    "# Send model to device\n",
    "model.to(device)\n"
   ]
  },
  {
   "cell_type": "code",
   "execution_count": 50,
   "metadata": {},
   "outputs": [
    {
     "name": "stdout",
     "output_type": "stream",
     "text": [
      "Epoch 1/30, Train Loss: 0.5322, Val Loss: 0.5256\n",
      "Epoch 2/30, Train Loss: 0.5052, Val Loss: 0.4932\n",
      "Epoch 3/30, Train Loss: 0.4646, Val Loss: 0.4480\n",
      "Epoch 4/30, Train Loss: 0.4425, Val Loss: 0.4380\n",
      "Epoch 5/30, Train Loss: 0.4291, Val Loss: 0.4374\n",
      "Epoch 6/30, Train Loss: 0.4357, Val Loss: 0.4322\n",
      "Epoch 7/30, Train Loss: 0.4268, Val Loss: 0.4249\n",
      "Epoch 8/30, Train Loss: 0.4135, Val Loss: 0.4180\n",
      "Epoch 9/30, Train Loss: 0.4033, Val Loss: 0.4087\n",
      "Epoch 10/30, Train Loss: 0.3994, Val Loss: 0.4033\n",
      "Epoch 11/30, Train Loss: 0.3972, Val Loss: 0.4011\n",
      "Epoch 12/30, Train Loss: 0.3943, Val Loss: 0.4007\n",
      "Epoch 13/30, Train Loss: 0.3908, Val Loss: 0.3964\n",
      "Epoch 14/30, Train Loss: 0.3870, Val Loss: 0.4049\n",
      "Epoch 15/30, Train Loss: 0.3891, Val Loss: 0.3943\n",
      "Epoch 16/30, Train Loss: 0.3838, Val Loss: 0.3956\n",
      "Epoch 17/30, Train Loss: 0.3811, Val Loss: 0.3954\n",
      "Epoch 18/30, Train Loss: 0.3823, Val Loss: 0.3914\n",
      "Epoch 19/30, Train Loss: 0.3799, Val Loss: 0.3918\n",
      "Epoch 20/30, Train Loss: 0.3805, Val Loss: 0.3932\n",
      "Epoch 21/30, Train Loss: 0.3817, Val Loss: 0.3968\n",
      "Epoch 22/30, Train Loss: 0.3827, Val Loss: 0.3977\n",
      "Epoch 23/30, Train Loss: 0.3816, Val Loss: 0.3957\n",
      "Epoch 24/30, Train Loss: 0.3790, Val Loss: 0.3944\n",
      "Epoch 25/30, Train Loss: 0.3742, Val Loss: 0.3966\n",
      "Epoch 26/30, Train Loss: 0.3757, Val Loss: 0.3910\n",
      "Epoch 27/30, Train Loss: 0.3730, Val Loss: 0.3935\n",
      "Epoch 28/30, Train Loss: 0.3734, Val Loss: 0.3908\n",
      "Epoch 29/30, Train Loss: 0.3720, Val Loss: 0.3885\n",
      "Epoch 30/30, Train Loss: 0.3722, Val Loss: 0.3905\n"
     ]
    },
    {
     "data": {
      "image/png": "[encoded data removed]",
      "text/plain": [
       "<Figure size 1000x600 with 1 Axes>"
      ]
     },
     "metadata": {},
     "output_type": "display_data"
    }
   ],
   "source": [
    "# Train the model\n",
    "epochs = 30\n",
    "train_losses, val_losses = train_model(model, train_loader, val_loader, device, epochs=epochs)\n",
    "\n",
    "# Plot the training and validation loss\n",
    "plot_losses(train_losses, val_losses)\n"
   ]
  },
  {
   "cell_type": "code",
   "execution_count": null,
   "metadata": {},
   "outputs": [],
   "source": []
  }
 ],
 "metadata": {
  "kernelspec": {
   "display_name": "base",
   "language": "python",
   "name": "python3"
  },
  "language_info": {
   "codemirror_mode": {
    "name": "ipython",
    "version": 3
   },
   "file_extension": ".py",
   "mimetype": "text/x-python",
   "name": "python",
   "nbconvert_exporter": "python",
   "pygments_lexer": "ipython3",
   "version": "3.12.2"
  }
 },
 "nbformat": 4,
 "nbformat_minor": 2
}
