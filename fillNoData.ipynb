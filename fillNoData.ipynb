{
 "cells": [
  {
   "cell_type": "code",
   "execution_count": null,
   "metadata": {},
   "outputs": [],
   "source": [
    "import rasterio\n",
    "import numpy as np\n",
    "from scipy.interpolate import griddata\n",
    "\n",
    "# Load the GeoTIFF image\n",
    "input_file = \"/home/mehdih/codes/prithvi/prithvi_finetuning/201905Mississipi/201905Mississipi_BF.tif\"\n",
    "output_file = \"/home/mehdih/codes/prithvi/prithvi_finetuning/201905Mississipi/201905Mississipi_AF_NN.tif\"\n",
    "\n",
    "with rasterio.open(input_file) as src:\n",
    "    profile = src.profile\n",
    "    data = src.read(1)  # Read the first band\n",
    "\n",
    "# Identify NaN values\n",
    "mask = np.isnan(data)\n",
    "\n",
    "# Get the coordinates of valid (non-NaN) pixels\n",
    "y, x = np.where(~mask)\n",
    "values = data[~mask]\n",
    "\n",
    "# Get the coordinates of NaN pixels\n",
    "y_nan, x_nan = np.where(mask)\n",
    "\n",
    "# Interpolate NaN values\n",
    "data[mask] = griddata((x, y), values, (x_nan, y_nan), method='linear')\n",
    "\n",
    "# Save the corrected image\n",
    "with rasterio.open(output_file, 'w', **profile) as dst:\n",
    "    dst.write(data, 1)"
   ]
  },
  {
   "cell_type": "code",
   "execution_count": null,
   "metadata": {},
   "outputs": [],
   "source": []
  },
  {
   "cell_type": "code",
   "execution_count": null,
   "metadata": {},
   "outputs": [],
   "source": [
    "from osgeo import gdal\n",
    "print(gdal.__version__)"
   ]
  },
  {
   "cell_type": "code",
   "execution_count": null,
   "metadata": {},
   "outputs": [],
   "source": []
  }
 ],
 "metadata": {
  "kernelspec": {
   "display_name": "trainingEnv",
   "language": "python",
   "name": "python3"
  },
  "language_info": {
   "codemirror_mode": {
    "name": "ipython",
    "version": 3
   },
   "file_extension": ".py",
   "mimetype": "text/x-python",
   "name": "python",
   "nbconvert_exporter": "python",
   "pygments_lexer": "ipython3",
   "version": "3.9.20"
  }
 },
 "nbformat": 4,
 "nbformat_minor": 2
}
